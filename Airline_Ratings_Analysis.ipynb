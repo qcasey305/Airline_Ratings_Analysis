{
  "nbformat": 4,
  "nbformat_minor": 0,
  "metadata": {
    "colab": {
      "name": "Airline Ratings Analysis.ipynb",
      "provenance": [],
      "authorship_tag": "ABX9TyMazRT+h9DZto6oW1Y4FSoD",
      "include_colab_link": true
    },
    "kernelspec": {
      "name": "python3",
      "display_name": "Python 3"
    }
  },
  "cells": [
    {
      "cell_type": "markdown",
      "metadata": {
        "id": "view-in-github",
        "colab_type": "text"
      },
      "source": [
        "<a href=\"https://colab.research.google.com/github/qcasey305/Airline_Ratings_Analysis/blob/master/Airline_Ratings_Analysis.ipynb\" target=\"_parent\"><img src=\"https://colab.research.google.com/assets/colab-badge.svg\" alt=\"Open In Colab\"/></a>"
      ]
    },
    {
      "cell_type": "markdown",
      "metadata": {
        "id": "3diYU1R7tptD",
        "colab_type": "text"
      },
      "source": [
        "# **Project Introduction**\n"
      ]
    },
    {
      "cell_type": "markdown",
      "metadata": {
        "id": "z74-4-PJtzJv",
        "colab_type": "text"
      },
      "source": [
        "**Dataframe Overview**\n",
        "\n",
        "\n",
        "\n",
        "*   Scraped dataset of Airline reviews from Skytrax (www.airlinequality.com) \n",
        "*   41396 total reviews\n",
        "*   Date range: 1970-01-01 to 2015-08-02\n",
        "*   Source: [Github](https://github.com/quankiquanki/skytrax-reviews-dataset)\n",
        "\n",
        "\n"
      ]
    },
    {
      "cell_type": "markdown",
      "metadata": {
        "id": "JFTpR-oFu8ne",
        "colab_type": "text"
      },
      "source": [
        "**Data Dictionary**\n",
        "\n",
        "- airline_name = name of commercial airline\n",
        "- link = link to review page for airline\n",
        "- title = '[Airline Name] customer review'\n",
        "- author = First Initial and Last Name of Reviewer\n",
        "- author_country = Country of Residence of reviewer\n",
        "- date = Date review was submitted\n",
        "- content = freeform content of review\n",
        "- aircraft = Aircraft type\n",
        "- type_traveller = reason for travel: Business, Couple, Leisure, Family Leisure, Solo Leisure\n",
        "- cabin_flown = cabin type: Business Class, Economy, First Class, Premium Economy\n",
        "- route = Departing airport to Arrival airport\n",
        "- overall_rating = overall experience rating (1-10)\n",
        "- seat_comfort_rating = seat comfort rating (1-10)\n",
        "- cabin_staff_rating = cabin staff rating (1-10)\n",
        "- food_beverages_rating = food and beverages rating (1-10)\n",
        "- inflight_entertainment_rating = in-flight entertainment rating (1-10)\n",
        "- ground_service_rating = ground service rating (1-10)\n",
        "- wifi_connectivity_rating = wifi connectivity rating (1-10)\n",
        "- value_money_rating = airline value for money (1-10)\n",
        "- recommended = Would you recommend this airline, yes or no (0 or 1)?\n",
        "\n",
        "\n"
      ]
    },
    {
      "cell_type": "markdown",
      "metadata": {
        "id": "8y4pWS3O0VUZ",
        "colab_type": "text"
      },
      "source": [
        "**Problem Statement**\n",
        "\n",
        "What effects do country of residence, cabin type, and reason for travel have on a person's airline review?"
      ]
    },
    {
      "cell_type": "markdown",
      "metadata": {
        "id": "mHGN9kPr04JY",
        "colab_type": "text"
      },
      "source": [
        "**Hypotheses**\n",
        "\n",
        "1.   There will be a correlation between country of origin of reviewers and average airline reviews\n",
        "2.   The more premium the cabin type, the higher the overall rating and seat comfort rating for the airline experience\n",
        "3. The less premium the cabin type, the the lower the overall rating and seat comfort rating for the airline experience\n",
        "   - However, the less premium the cabin type, the higher the value for money.\n"
      ]
    },
    {
      "cell_type": "markdown",
      "metadata": {
        "id": "SXRi2qtJ2FzJ",
        "colab_type": "text"
      },
      "source": [
        "# **Loading the Dataframe**"
      ]
    },
    {
      "cell_type": "markdown",
      "metadata": {
        "id": "16drJom42Xzc",
        "colab_type": "text"
      },
      "source": [
        "**Import Analysis Modules**"
      ]
    },
    {
      "cell_type": "code",
      "metadata": {
        "id": "6sd7veNp2LPf",
        "colab_type": "code",
        "outputId": "9b51fb16-2279-42a9-8ae9-4e066b03fcab",
        "colab": {
          "base_uri": "https://localhost:8080/",
          "height": 88
        }
      },
      "source": [
        "import pandas as pd\n",
        "import numpy as np\n",
        "from scipy import stats\n",
        "import matplotlib.pyplot as plt\n",
        "%matplotlib inline\n",
        "import seaborn as sns\n",
        "\n",
        "print('pandas import successful')"
      ],
      "execution_count": 0,
      "outputs": [
        {
          "output_type": "stream",
          "text": [
            "pandas import successful\n"
          ],
          "name": "stdout"
        },
        {
          "output_type": "stream",
          "text": [
            "/usr/local/lib/python3.6/dist-packages/statsmodels/tools/_testing.py:19: FutureWarning: pandas.util.testing is deprecated. Use the functions in the public API at pandas.testing instead.\n",
            "  import pandas.util.testing as tm\n"
          ],
          "name": "stderr"
        }
      ]
    },
    {
      "cell_type": "markdown",
      "metadata": {
        "id": "vBV9O3zr2dp9",
        "colab_type": "text"
      },
      "source": [
        "**Import CSV**"
      ]
    },
    {
      "cell_type": "code",
      "metadata": {
        "id": "fkXiroFx2fZY",
        "colab_type": "code",
        "outputId": "b05439f7-d292-4f6a-daf6-06a7e0d604c9",
        "colab": {
          "base_uri": "https://localhost:8080/",
          "height": 34
        }
      },
      "source": [
        "skytrax_orig = pd.read_csv('https://raw.githubusercontent.com/quankiquanki/skytrax-reviews-dataset/master/data/airline.csv')\n",
        "reviews = skytrax_orig.copy()\n",
        "print('dataset loaded successfully')"
      ],
      "execution_count": 0,
      "outputs": [
        {
          "output_type": "stream",
          "text": [
            "dataset loaded successfully\n"
          ],
          "name": "stdout"
        }
      ]
    },
    {
      "cell_type": "markdown",
      "metadata": {
        "id": "4Lxro6Y92lwa",
        "colab_type": "text"
      },
      "source": [
        "**See Description of Dataframe**"
      ]
    },
    {
      "cell_type": "code",
      "metadata": {
        "id": "NdwTXgbm3LYj",
        "colab_type": "code",
        "outputId": "5c392d32-2931-43fd-b380-f236cfb189c8",
        "colab": {
          "base_uri": "https://localhost:8080/",
          "height": 476
        }
      },
      "source": [
        "reviews.info()"
      ],
      "execution_count": 0,
      "outputs": [
        {
          "output_type": "stream",
          "text": [
            "<class 'pandas.core.frame.DataFrame'>\n",
            "RangeIndex: 41396 entries, 0 to 41395\n",
            "Data columns (total 20 columns):\n",
            " #   Column                         Non-Null Count  Dtype  \n",
            "---  ------                         --------------  -----  \n",
            " 0   airline_name                   41396 non-null  object \n",
            " 1   link                           41396 non-null  object \n",
            " 2   title                          41396 non-null  object \n",
            " 3   author                         41396 non-null  object \n",
            " 4   author_country                 39805 non-null  object \n",
            " 5   date                           41396 non-null  object \n",
            " 6   content                        41396 non-null  object \n",
            " 7   aircraft                       1278 non-null   object \n",
            " 8   type_traveller                 2378 non-null   object \n",
            " 9   cabin_flown                    38520 non-null  object \n",
            " 10  route                          2341 non-null   object \n",
            " 11  overall_rating                 36861 non-null  float64\n",
            " 12  seat_comfort_rating            33706 non-null  float64\n",
            " 13  cabin_staff_rating             33708 non-null  float64\n",
            " 14  food_beverages_rating          33264 non-null  float64\n",
            " 15  inflight_entertainment_rating  31114 non-null  float64\n",
            " 16  ground_service_rating          2203 non-null   float64\n",
            " 17  wifi_connectivity_rating       565 non-null    float64\n",
            " 18  value_money_rating             39723 non-null  float64\n",
            " 19  recommended                    41396 non-null  int64  \n",
            "dtypes: float64(8), int64(1), object(11)\n",
            "memory usage: 6.3+ MB\n"
          ],
          "name": "stdout"
        }
      ]
    },
    {
      "cell_type": "markdown",
      "metadata": {
        "id": "D2UicAnG3xr_",
        "colab_type": "text"
      },
      "source": [
        "**Preview one row of Dataframe**"
      ]
    },
    {
      "cell_type": "code",
      "metadata": {
        "id": "3ziuQHhF31EL",
        "colab_type": "code",
        "outputId": "fc895988-023c-4f0c-e476-6168ba96721a",
        "colab": {
          "base_uri": "https://localhost:8080/",
          "height": 374
        }
      },
      "source": [
        "print(reviews.iloc[0])"
      ],
      "execution_count": 0,
      "outputs": [
        {
          "output_type": "stream",
          "text": [
            "airline_name                                                         adria-airways\n",
            "link                                                /airline-reviews/adria-airways\n",
            "title                                                Adria Airways customer review\n",
            "author                                                                       D Ito\n",
            "author_country                                                             Germany\n",
            "date                                                                    2015-04-10\n",
            "content                          Outbound flight FRA/PRN A319. 2 hours 10 min f...\n",
            "aircraft                                                                       NaN\n",
            "type_traveller                                                                 NaN\n",
            "cabin_flown                                                                Economy\n",
            "route                                                                          NaN\n",
            "overall_rating                                                                   7\n",
            "seat_comfort_rating                                                              4\n",
            "cabin_staff_rating                                                               4\n",
            "food_beverages_rating                                                            4\n",
            "inflight_entertainment_rating                                                    0\n",
            "ground_service_rating                                                          NaN\n",
            "wifi_connectivity_rating                                                       NaN\n",
            "value_money_rating                                                               4\n",
            "recommended                                                                      1\n",
            "Name: 0, dtype: object\n"
          ],
          "name": "stdout"
        }
      ]
    },
    {
      "cell_type": "markdown",
      "metadata": {
        "id": "sXzcaBlE45X_",
        "colab_type": "text"
      },
      "source": [
        "**See total number of Airlines are featured in the Dataframe.**\n",
        "\n"
      ]
    },
    {
      "cell_type": "code",
      "metadata": {
        "id": "AWNqyOdn445e",
        "colab_type": "code",
        "outputId": "0d3f67f8-fc46-4101-eb1e-0805dda3743f",
        "colab": {
          "base_uri": "https://localhost:8080/",
          "height": 34
        }
      },
      "source": [
        "len(reviews.airline_name.unique())"
      ],
      "execution_count": 0,
      "outputs": [
        {
          "output_type": "execute_result",
          "data": {
            "text/plain": [
              "362"
            ]
          },
          "metadata": {
            "tags": []
          },
          "execution_count": 9
        }
      ]
    },
    {
      "cell_type": "markdown",
      "metadata": {
        "id": "zNGqa0W1VMxe",
        "colab_type": "text"
      },
      "source": [
        "**See total number of reviewer countries of residence are featured in the Dataframe.**"
      ]
    },
    {
      "cell_type": "code",
      "metadata": {
        "id": "sNVFyFVLVF8q",
        "colab_type": "code",
        "colab": {
          "base_uri": "https://localhost:8080/",
          "height": 34
        },
        "outputId": "d353929b-0500-40e8-fd65-139fdba679fe"
      },
      "source": [
        "len(reviews.author_country.unique())"
      ],
      "execution_count": 82,
      "outputs": [
        {
          "output_type": "execute_result",
          "data": {
            "text/plain": [
              "159"
            ]
          },
          "metadata": {
            "tags": []
          },
          "execution_count": 82
        }
      ]
    },
    {
      "cell_type": "markdown",
      "metadata": {
        "id": "odaaEkN04SeC",
        "colab_type": "text"
      },
      "source": [
        "# **Clean the Dataframe**"
      ]
    },
    {
      "cell_type": "markdown",
      "metadata": {
        "id": "WCyxOE_Z5OVN",
        "colab_type": "text"
      },
      "source": [
        "**Delete the link column and the title column as they are not necessary in our analysis.**"
      ]
    },
    {
      "cell_type": "code",
      "metadata": {
        "id": "93uUTk765cBR",
        "colab_type": "code",
        "colab": {}
      },
      "source": [
        "reviews.drop(columns=['link', 'title'], inplace=True)\n",
        "#note: inplace = True will permanently change the Dataframe order"
      ],
      "execution_count": 0,
      "outputs": []
    },
    {
      "cell_type": "markdown",
      "metadata": {
        "id": "g0ZgUUq34emu",
        "colab_type": "text"
      },
      "source": [
        "**Sort the Dataframe by overall rating in descending order.**"
      ]
    },
    {
      "cell_type": "code",
      "metadata": {
        "id": "bu6284IS4nJS",
        "colab_type": "code",
        "colab": {}
      },
      "source": [
        "reviews.sort_values(by=['overall_rating'], ascending=False, inplace=True, na_position='last')\n",
        "#note: inplace = True will permanently change the Dataframe order"
      ],
      "execution_count": 0,
      "outputs": []
    },
    {
      "cell_type": "markdown",
      "metadata": {
        "id": "DuRbkkFs6bdC",
        "colab_type": "text"
      },
      "source": [
        "# **Analysis**"
      ]
    },
    {
      "cell_type": "markdown",
      "metadata": {
        "id": "5qp3QAEP6k7q",
        "colab_type": "text"
      },
      "source": [
        "**Find the mean, median, and mode of overall rating for the entire Dataframe**"
      ]
    },
    {
      "cell_type": "code",
      "metadata": {
        "id": "AOMenVQv6kFU",
        "colab_type": "code",
        "outputId": "465ac207-d6d4-447a-f5c4-7f1c2b552910",
        "colab": {
          "base_uri": "https://localhost:8080/",
          "height": 85
        }
      },
      "source": [
        "print('The overall rating mean is', reviews['overall_rating'].mean())\n",
        "print('The overall rating median is', reviews['overall_rating'].median())\n",
        "print('The overall rating mode is', reviews['overall_rating'].mode())\n",
        "#bimodal"
      ],
      "execution_count": 0,
      "outputs": [
        {
          "output_type": "stream",
          "text": [
            "The overall rating mean is 6.039526871218904\n",
            "The overall rating median is 7.0\n",
            "The overall rating mode is 0    10.0\n",
            "dtype: float64\n"
          ],
          "name": "stdout"
        }
      ]
    },
    {
      "cell_type": "markdown",
      "metadata": {
        "id": "xw_J4v8z7B92",
        "colab_type": "text"
      },
      "source": [
        "**Plot the overall ratings of the Dataframe in a simple histogram to see a visual representations of the distribution (with and without KDE).**"
      ]
    },
    {
      "cell_type": "code",
      "metadata": {
        "id": "Rt8g5G3cOCLH",
        "colab_type": "code",
        "colab": {
          "base_uri": "https://localhost:8080/",
          "height": 371
        },
        "outputId": "de98f6ee-f759-456f-8d3e-92b3d28eeefe"
      },
      "source": [
        "fig, (ax1, ax2) = plt.subplots(ncols=2, figsize=(15, 5))\n",
        "fig.suptitle('Distribution of Overall Rating')\n",
        "sns.distplot(reviews['overall_rating'], ax=ax1)\n",
        "sns.distplot(reviews['overall_rating'], kde=False, ax=ax2)\n",
        "\n",
        "plt.show()\n",
        "\n",
        "#bimodal / sort of left-skewed distribution"
      ],
      "execution_count": 66,
      "outputs": [
        {
          "output_type": "display_data",
          "data": {
            "image/png": "[encoded data removed]",
            "text/plain": [
              "<Figure size 1080x360 with 2 Axes>"
            ]
          },
          "metadata": {
            "tags": [],
            "needs_background": "light"
          }
        }
      ]
    },
    {
      "cell_type": "markdown",
      "metadata": {
        "id": "BFwl5r05SCHO",
        "colab_type": "text"
      },
      "source": [
        "**Understand the audience breakdown of the Dataframe.**\n",
        "\n",
        "Create a histogram of number of reviews by country."
      ]
    },
    {
      "cell_type": "code",
      "metadata": {
        "id": "6nkMFMTYRS_U",
        "colab_type": "code",
        "colab": {
          "base_uri": "https://localhost:8080/",
          "height": 706
        },
        "outputId": "01f5de23-d4cd-45a0-a974-0d2325c9dbf4"
      },
      "source": [
        "reviews['author_country'].value_counts().plot(kind='bar', figsize=(25, 10))\n",
        "plt.ylabel('Number of Reviewers in Country')\n",
        "plt.xlabel('Countries')\n",
        "plt.title('Number of Reviews per Country');"
      ],
      "execution_count": 74,
      "outputs": [
        {
          "output_type": "display_data",
          "data": {
            "image/png": "[encoded data removed]",
            "text/plain": [
              "<Figure size 1800x720 with 1 Axes>"
            ]
          },
          "metadata": {
            "tags": [],
            "needs_background": "light"
          }
        }
      ]
    },
    {
      "cell_type": "markdown",
      "metadata": {
        "id": "FNN6zlP48BkT",
        "colab_type": "text"
      },
      "source": [
        "**Create a pivot table that depicts overall rating by country.**"
      ]
    },
    {
      "cell_type": "code",
      "metadata": {
        "id": "8QQ2eRnp8KRO",
        "colab_type": "code",
        "outputId": "d64beb3d-96d8-44b8-a314-300494376ee5",
        "colab": {
          "base_uri": "https://localhost:8080/",
          "height": 450
        }
      },
      "source": [
        "reviews.groupby('author_country')[['overall_rating']].mean().sort_values(by=['overall_rating'], ascending=False, inplace=False, na_position='last')\n",
        "#how do i get it to show every row???\n",
        "#how to not show Nan values?"
      ],
      "execution_count": 36,
      "outputs": [
        {
          "output_type": "execute_result",
          "data": {
            "text/html": [
              "<div>\n",
              "<style scoped>\n",
              "    .dataframe tbody tr th:only-of-type {\n",
              "        vertical-align: middle;\n",
              "    }\n",
              "\n",
              "    .dataframe tbody tr th {\n",
              "        vertical-align: top;\n",
              "    }\n",
              "\n",
              "    .dataframe thead th {\n",
              "        text-align: right;\n",
              "    }\n",
              "</style>\n",
              "<table border=\"1\" class=\"dataframe\">\n",
              "  <thead>\n",
              "    <tr style=\"text-align: right;\">\n",
              "      <th></th>\n",
              "      <th>overall_rating</th>\n",
              "    </tr>\n",
              "    <tr>\n",
              "      <th>author_country</th>\n",
              "      <th></th>\n",
              "    </tr>\n",
              "  </thead>\n",
              "  <tbody>\n",
              "    <tr>\n",
              "      <th>Gambia</th>\n",
              "      <td>10.0</td>\n",
              "    </tr>\n",
              "    <tr>\n",
              "      <th>East Timor</th>\n",
              "      <td>10.0</td>\n",
              "    </tr>\n",
              "    <tr>\n",
              "      <th>Dominica</th>\n",
              "      <td>10.0</td>\n",
              "    </tr>\n",
              "    <tr>\n",
              "      <th>Gibraltar</th>\n",
              "      <td>10.0</td>\n",
              "    </tr>\n",
              "    <tr>\n",
              "      <th>Lesotho</th>\n",
              "      <td>10.0</td>\n",
              "    </tr>\n",
              "    <tr>\n",
              "      <th>...</th>\n",
              "      <td>...</td>\n",
              "    </tr>\n",
              "    <tr>\n",
              "      <th>Bolivia</th>\n",
              "      <td>1.0</td>\n",
              "    </tr>\n",
              "    <tr>\n",
              "      <th>Cameroon</th>\n",
              "      <td>NaN</td>\n",
              "    </tr>\n",
              "    <tr>\n",
              "      <th>Grenada</th>\n",
              "      <td>NaN</td>\n",
              "    </tr>\n",
              "    <tr>\n",
              "      <th>Liechtenstein</th>\n",
              "      <td>NaN</td>\n",
              "    </tr>\n",
              "    <tr>\n",
              "      <th>Senegal</th>\n",
              "      <td>NaN</td>\n",
              "    </tr>\n",
              "  </tbody>\n",
              "</table>\n",
              "<p>158 rows × 1 columns</p>\n",
              "</div>"
            ],
            "text/plain": [
              "                overall_rating\n",
              "author_country                \n",
              "Gambia                    10.0\n",
              "East Timor                10.0\n",
              "Dominica                  10.0\n",
              "Gibraltar                 10.0\n",
              "Lesotho                   10.0\n",
              "...                        ...\n",
              "Bolivia                    1.0\n",
              "Cameroon                   NaN\n",
              "Grenada                    NaN\n",
              "Liechtenstein              NaN\n",
              "Senegal                    NaN\n",
              "\n",
              "[158 rows x 1 columns]"
            ]
          },
          "metadata": {
            "tags": []
          },
          "execution_count": 36
        }
      ]
    },
    {
      "cell_type": "markdown",
      "metadata": {
        "id": "C90IIn1I-xwN",
        "colab_type": "text"
      },
      "source": [
        "**Country of Residence vs. Airline Ratings**\n",
        "\n",
        "According to [World Atlas](https://www.worldatlas.com/articles/countries-whose-citizens-travel-the-most.html), these are the countries who travel the most (i.e. highest number of trips per person per year):\n",
        "*   Finland\n",
        "*   USA\n",
        "- Sweden\n",
        "- Denmark\n",
        "- Norway\n",
        "- Hong Kong\n",
        "- New Zealand\n",
        "- Canada\n",
        "- Australia\n",
        "- France\n",
        "\n",
        "> Are reviewers  from these top travel countries more critical than average?\n",
        "\n",
        "\n"
      ]
    },
    {
      "cell_type": "code",
      "metadata": {
        "id": "G75a6w_aAgh6",
        "colab_type": "code",
        "outputId": "0d606e01-6722-4f25-dd60-e57a7e994211",
        "colab": {
          "base_uri": "https://localhost:8080/",
          "height": 85
        }
      },
      "source": [
        "gb = reviews.groupby('author_country')\n",
        "finland = gb.get_group('Finland')\n",
        "\n",
        "print('The Finland mean rating for overall rating is', finland['overall_rating'].mean())\n",
        "print('The Finland mean rating for cabin staff rating is', finland['cabin_staff_rating'].mean())\n",
        "print('The Finland mean rating for food and beverage rating is', finland['food_beverages_rating'].mean())\n",
        "print('The Finland mean rating for in-flight entertainment rating is', finland['inflight_entertainment_rating'].mean())"
      ],
      "execution_count": 0,
      "outputs": [
        {
          "output_type": "stream",
          "text": [
            "The Finland mean rating for overall rating is 6.666666666666667\n",
            "The Finland mean rating for cabin staff rating is 3.5867768595041323\n",
            "The Finland mean rating for food and beverage rating is 2.8925619834710745\n",
            "The Finland mean rating for in-flight entertainment rating is 2.4\n"
          ],
          "name": "stdout"
        }
      ]
    },
    {
      "cell_type": "code",
      "metadata": {
        "id": "fDwSRUh9Dmfj",
        "colab_type": "code",
        "outputId": "b308caaa-8bf7-482a-9f35-a2731c8f13ea",
        "colab": {
          "base_uri": "https://localhost:8080/",
          "height": 85
        }
      },
      "source": [
        "\n",
        "print('The Dataframe mean rating for overall rating is', reviews['overall_rating'].mean())\n",
        "print('The Dataframe mean rating for cabin staff rating is', reviews['cabin_staff_rating'].mean())\n",
        "print('The Dataframe mean rating for food and beverage rating is', reviews['food_beverages_rating'].mean())\n",
        "print('The Dataframe mean rating for in-flight entertainment rating is', reviews['inflight_entertainment_rating'].mean())"
      ],
      "execution_count": 0,
      "outputs": [
        {
          "output_type": "stream",
          "text": [
            "The Dataframe mean rating for overall rating is 6.039526871218904\n",
            "The Dataframe mean rating for cabin staff rating is 3.3192120564851075\n",
            "The Dataframe mean rating for food and beverage rating is 2.8058862433862433\n",
            "The Dataframe mean rating for in-flight entertainment rating is 2.392363566240278\n"
          ],
          "name": "stdout"
        }
      ]
    },
    {
      "cell_type": "markdown",
      "metadata": {
        "id": "WpRWnCQcC0l2",
        "colab_type": "text"
      },
      "source": [
        "How do Finland's means for these categories stack up to the Dataframe means?\n",
        "\n",
        "- Finland's mean for *overall rating* **>** Dataframe's mean for *overall rating*\n",
        "- Finland's mean for *cabin_staff_rating* **>** Dataframe's mean for *cabin_staff_rating*\n",
        "- Finland's mean for *food_beverages_rating* **=** Dataframe's mean for *inflight_entertainment_rating*\n",
        "\n",
        "\n",
        "> Although Finland travels the most per capita, their average reviews fall very close to or above the averages for the entire Dataframe. \n",
        "\n",
        "\n",
        "\n"
      ]
    },
    {
      "cell_type": "code",
      "metadata": {
        "id": "gFoevmghHX5d",
        "colab_type": "code",
        "colab": {
          "base_uri": "https://localhost:8080/",
          "height": 181
        },
        "outputId": "8c008553-92a2-43c2-ae70-690e5e701dc9"
      },
      "source": [
        "top_countries = gb.get_group('Finland','United States', 'Sweden', 'Denmark', 'Norway', 'Hong Kong', 'New Zealand','Canada','Australia','France')\n",
        "\n",
        "#Trying to make a bar chart with mean ratings by these top 10 as well as the means for the whole dataframe...\n",
        "#ideally like a stacked bar chart\n",
        "#would like to do the same for the top rated airlines\n"
      ],
      "execution_count": 40,
      "outputs": [
        {
          "output_type": "error",
          "ename": "TypeError",
          "evalue": "ignored",
          "traceback": [
            "\u001b[0;31m---------------------------------------------------------------------------\u001b[0m",
            "\u001b[0;31mTypeError\u001b[0m                                 Traceback (most recent call last)",
            "\u001b[0;32m<ipython-input-40-0013800504da>\u001b[0m in \u001b[0;36m<module>\u001b[0;34m()\u001b[0m\n\u001b[0;32m----> 1\u001b[0;31m \u001b[0mtop_countries\u001b[0m \u001b[0;34m=\u001b[0m \u001b[0mgb\u001b[0m\u001b[0;34m.\u001b[0m\u001b[0mget_group\u001b[0m\u001b[0;34m(\u001b[0m\u001b[0;34m'Finland'\u001b[0m\u001b[0;34m,\u001b[0m\u001b[0;34m'United States'\u001b[0m\u001b[0;34m,\u001b[0m \u001b[0;34m'Sweden'\u001b[0m\u001b[0;34m,\u001b[0m \u001b[0;34m'Denmark'\u001b[0m\u001b[0;34m,\u001b[0m \u001b[0;34m'Norway'\u001b[0m\u001b[0;34m,\u001b[0m \u001b[0;34m'Hong Kong'\u001b[0m\u001b[0;34m,\u001b[0m \u001b[0;34m'New Zealand'\u001b[0m\u001b[0;34m,\u001b[0m\u001b[0;34m'Canada'\u001b[0m\u001b[0;34m,\u001b[0m\u001b[0;34m'Australia'\u001b[0m\u001b[0;34m,\u001b[0m\u001b[0;34m'France'\u001b[0m\u001b[0;34m)\u001b[0m\u001b[0;34m\u001b[0m\u001b[0;34m\u001b[0m\u001b[0m\n\u001b[0m\u001b[1;32m      2\u001b[0m \u001b[0;34m\u001b[0m\u001b[0m\n",
            "\u001b[0;31mTypeError\u001b[0m: get_group() takes from 2 to 3 positional arguments but 11 were given"
          ]
        }
      ]
    },
    {
      "cell_type": "markdown",
      "metadata": {
        "id": "zzAhNZGZAfzP",
        "colab_type": "text"
      },
      "source": [
        "**Cabin Class Ratings**"
      ]
    },
    {
      "cell_type": "code",
      "metadata": {
        "id": "5jMhwVUv9U3v",
        "colab_type": "code",
        "outputId": "de77ad83-23f9-4d9c-8134-1ba95aaa73a6",
        "colab": {
          "base_uri": "https://localhost:8080/",
          "height": 187
        }
      },
      "source": [
        "reviews.pivot_table(index=('cabin_flown'),values=['overall_rating','seat_comfort_rating'], aggfunc = 'mean').unstack()\n",
        "\n",
        "#why does this not show up as a real pivot table? :("
      ],
      "execution_count": 0,
      "outputs": [
        {
          "output_type": "execute_result",
          "data": {
            "text/plain": [
              "                     cabin_flown    \n",
              "overall_rating       Business Class     6.874939\n",
              "                     Economy            5.974157\n",
              "                     First Class        6.651300\n",
              "                     Premium Economy    5.856747\n",
              "seat_comfort_rating  Business Class     3.616658\n",
              "                     Economy            2.986317\n",
              "                     First Class        3.740325\n",
              "                     Premium Economy    3.150485\n",
              "dtype: float64"
            ]
          },
          "metadata": {
            "tags": []
          },
          "execution_count": 29
        }
      ]
    },
    {
      "cell_type": "code",
      "metadata": {
        "id": "iELKWvVaLoqH",
        "colab_type": "code",
        "colab": {
          "base_uri": "https://localhost:8080/",
          "height": 296
        },
        "outputId": "090ff2ed-d257-4ff9-d0e8-5ee5c11123ee"
      },
      "source": [
        "sns.barplot(x='cabin_flown', y='overall_rating', data=reviews, estimator=np.mean, ci=None)\n",
        "plt.title('Average Rating by Cabin Flown')\n",
        "plt.show()"
      ],
      "execution_count": 71,
      "outputs": [
        {
          "output_type": "display_data",
          "data": {
            "image/png": "[encoded data removed]",
            "text/plain": [
              "<Figure size 432x288 with 1 Axes>"
            ]
          },
          "metadata": {
            "tags": [],
            "needs_background": "light"
          }
        }
      ]
    },
    {
      "cell_type": "code",
      "metadata": {
        "id": "gojPffjdMPJa",
        "colab_type": "code",
        "colab": {
          "base_uri": "https://localhost:8080/",
          "height": 296
        },
        "outputId": "3f1a1646-99a8-4b1c-e23c-8c63e4dc3d0e"
      },
      "source": [
        "sns.barplot(x='cabin_flown', y='seat_comfort_rating', data=reviews, estimator=np.mean, ci=None)\n",
        "plt.title('Average Seat Comfort Rating by Cabin Flown')\n",
        "plt.show()"
      ],
      "execution_count": 56,
      "outputs": [
        {
          "output_type": "display_data",
          "data": {
            "image/png": "[encoded data removed]",
            "text/plain": [
              "<Figure size 432x288 with 1 Axes>"
            ]
          },
          "metadata": {
            "tags": [],
            "needs_background": "light"
          }
        }
      ]
    },
    {
      "cell_type": "code",
      "metadata": {
        "id": "49yczDbfNYFE",
        "colab_type": "code",
        "colab": {
          "base_uri": "https://localhost:8080/",
          "height": 296
        },
        "outputId": "9125b25d-6d2d-47e0-b651-0e0706521f33"
      },
      "source": [
        "sns.barplot(x='cabin_flown', y='value_money_rating', data=reviews, estimator=np.mean, ci=None)\n",
        "plt.title('Average Value for Money Rating by Cabin Flown')\n",
        "plt.show()"
      ],
      "execution_count": 63,
      "outputs": [
        {
          "output_type": "display_data",
          "data": {
            "image/png": "[encoded data removed]",
            "text/plain": [
              "<Figure size 432x288 with 1 Axes>"
            ]
          },
          "metadata": {
            "tags": [],
            "needs_background": "light"
          }
        }
      ]
    },
    {
      "cell_type": "code",
      "metadata": {
        "id": "ke6QEaJPK5qS",
        "colab_type": "code",
        "colab": {
          "base_uri": "https://localhost:8080/",
          "height": 51
        },
        "outputId": "876225d8-172c-4b7a-b800-ea03934505ac"
      },
      "source": [
        "reviews['year'] = pd.DatetimeIndex(reviews['date']).year\n",
        "\n",
        "print(reviews['year'].unique())\n",
        "\n",
        "\n",
        "# WTF is the min date... so confused how it could. be 1970..?"
      ],
      "execution_count": 62,
      "outputs": [
        {
          "output_type": "stream",
          "text": [
            "[2015 2010 2014 2011 2013 2012 2009 2008 2007 1970 2006 2005 2004 2003\n",
            " 2002]\n"
          ],
          "name": "stdout"
        }
      ]
    },
    {
      "cell_type": "markdown",
      "metadata": {
        "id": "E_vu9GTaRAtY",
        "colab_type": "text"
      },
      "source": [
        "**Traveller Type Ratings**"
      ]
    },
    {
      "cell_type": "code",
      "metadata": {
        "id": "leq8ao4ESgzE",
        "colab_type": "code",
        "colab": {
          "base_uri": "https://localhost:8080/",
          "height": 323
        },
        "outputId": "19461953-6beb-4a22-ef29-2aec853834f2"
      },
      "source": [
        "reviews.pivot_table(index=('type_traveller'),values=['overall_rating','seat_comfort_rating','food_beverages_rating','inflight_entertainment_rating'], aggfunc = 'mean').unstack()\n"
      ],
      "execution_count": 76,
      "outputs": [
        {
          "output_type": "execute_result",
          "data": {
            "text/plain": [
              "                               type_traveller\n",
              "food_beverages_rating          Business          2.738170\n",
              "                               Couple Leisure    2.829114\n",
              "                               FamilyLeisure     2.821206\n",
              "                               Solo Leisure      2.972644\n",
              "inflight_entertainment_rating  Business          2.714844\n",
              "                               Couple Leisure    2.915254\n",
              "                               FamilyLeisure     2.815718\n",
              "                               Solo Leisure      3.006000\n",
              "overall_rating                 Business          4.513812\n",
              "                               Couple Leisure    4.828619\n",
              "                               FamilyLeisure     4.703764\n",
              "                               Solo Leisure      5.364428\n",
              "seat_comfort_rating            Business          2.803867\n",
              "                               Couple Leisure    2.745424\n",
              "                               FamilyLeisure     2.714754\n",
              "                               Solo Leisure      2.986216\n",
              "dtype: float64"
            ]
          },
          "metadata": {
            "tags": []
          },
          "execution_count": 76
        }
      ]
    },
    {
      "cell_type": "code",
      "metadata": {
        "id": "kl8D9_PJTDZI",
        "colab_type": "code",
        "colab": {
          "base_uri": "https://localhost:8080/",
          "height": 296
        },
        "outputId": "f298dfc0-ca9b-4697-f60e-9590794420b1"
      },
      "source": [
        "sns.barplot(x='type_traveller', y='overall_rating', data=reviews, estimator=np.mean, ci=None)\n",
        "plt.title('Average Overall Rating by Traveller Type')\n",
        "plt.show()"
      ],
      "execution_count": 78,
      "outputs": [
        {
          "output_type": "display_data",
          "data": {
            "image/png": "[encoded data removed]",
            "text/plain": [
              "<Figure size 432x288 with 1 Axes>"
            ]
          },
          "metadata": {
            "tags": [],
            "needs_background": "light"
          }
        }
      ]
    },
    {
      "cell_type": "code",
      "metadata": {
        "id": "x_tYpqa2TNCT",
        "colab_type": "code",
        "colab": {
          "base_uri": "https://localhost:8080/",
          "height": 296
        },
        "outputId": "d0f3252d-37e4-4d67-d92d-2d50663c2deb"
      },
      "source": [
        "sns.barplot(x='type_traveller', y='seat_comfort_rating', data=reviews, estimator=np.mean, ci=None)\n",
        "plt.title('Average Seat Comfort Rating Rating by Traveller Type')\n",
        "plt.show()"
      ],
      "execution_count": 79,
      "outputs": [
        {
          "output_type": "display_data",
          "data": {
            "image/png": "[encoded data removed]",
            "text/plain": [
              "<Figure size 432x288 with 1 Axes>"
            ]
          },
          "metadata": {
            "tags": [],
            "needs_background": "light"
          }
        }
      ]
    },
    {
      "cell_type": "code",
      "metadata": {
        "id": "NpLDpCYsTTfm",
        "colab_type": "code",
        "colab": {
          "base_uri": "https://localhost:8080/",
          "height": 296
        },
        "outputId": "5b706585-11e5-470d-a6b7-00833bb98bcf"
      },
      "source": [
        "sns.barplot(x='type_traveller', y='food_beverages_rating', data=reviews, estimator=np.mean, ci=None)\n",
        "plt.title('Average Food and Beverages Rating Rating by Traveller Type')\n",
        "plt.show()"
      ],
      "execution_count": 80,
      "outputs": [
        {
          "output_type": "display_data",
          "data": {
            "image/png": "[encoded data removed]",
            "text/plain": [
              "<Figure size 432x288 with 1 Axes>"
            ]
          },
          "metadata": {
            "tags": [],
            "needs_background": "light"
          }
        }
      ]
    },
    {
      "cell_type": "code",
      "metadata": {
        "id": "XNf5_GCVTa7g",
        "colab_type": "code",
        "colab": {
          "base_uri": "https://localhost:8080/",
          "height": 296
        },
        "outputId": "072ccfbf-6dbd-432e-e8ff-b30cd2876981"
      },
      "source": [
        "sns.barplot(x='type_traveller', y='inflight_entertainment_rating', data=reviews, estimator=np.mean, ci=None)\n",
        "plt.title('Average In-Flight Entertainment Rating Rating by Traveller Type')\n",
        "plt.show()"
      ],
      "execution_count": 81,
      "outputs": [
        {
          "output_type": "display_data",
          "data": {
            "image/png": "[encoded data removed]",
            "text/plain": [
              "<Figure size 432x288 with 1 Axes>"
            ]
          },
          "metadata": {
            "tags": [],
            "needs_background": "light"
          }
        }
      ]
    },
    {
      "cell_type": "markdown",
      "metadata": {
        "id": "yp0jB3aQTtDt",
        "colab_type": "text"
      },
      "source": [
        "# **Insights**"
      ]
    },
    {
      "cell_type": "markdown",
      "metadata": {
        "id": "h8Eue4d6TxAd",
        "colab_type": "text"
      },
      "source": [
        ""
      ]
    }
  ]
}