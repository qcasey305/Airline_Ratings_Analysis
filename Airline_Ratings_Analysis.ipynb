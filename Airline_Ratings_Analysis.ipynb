{
  "nbformat": 4,
  "nbformat_minor": 0,
  "metadata": {
    "colab": {
      "name": "Airline Ratings Analysis.ipynb",
      "provenance": [],
      "authorship_tag": "ABX9TyM2PV4c6dzubg11pGWniSB/",
      "include_colab_link": true
    },
    "kernelspec": {
      "name": "python3",
      "display_name": "Python 3"
    }
  },
  "cells": [
    {
      "cell_type": "markdown",
      "metadata": {
        "id": "view-in-github",
        "colab_type": "text"
      },
      "source": [
        "<a href=\"https://colab.research.google.com/github/qcasey305/Airline_Ratings_Analysis/blob/master/Airline_Ratings_Analysis.ipynb\" target=\"_parent\"><img src=\"https://colab.research.google.com/assets/colab-badge.svg\" alt=\"Open In Colab\"/></a>"
      ]
    },
    {
      "cell_type": "markdown",
      "metadata": {
        "id": "3diYU1R7tptD",
        "colab_type": "text"
      },
      "source": [
        "# **Project Introduction**\n"
      ]
    },
    {
      "cell_type": "markdown",
      "metadata": {
        "id": "z74-4-PJtzJv",
        "colab_type": "text"
      },
      "source": [
        "**Dataframe Overview**\n",
        "\n",
        "\n",
        "\n",
        "*   Scraped dataset of Airline reviews from Skytrax (www.airlinequality.com) \n",
        "*   41396 total reviews\n",
        "*   Date range: 2002-01-06 to 2015-08-02\n",
        "*   Source: [Github](https://github.com/quankiquanki/skytrax-reviews-dataset)\n",
        "\n",
        "\n"
      ]
    },
    {
      "cell_type": "markdown",
      "metadata": {
        "id": "JFTpR-oFu8ne",
        "colab_type": "text"
      },
      "source": [
        "**Data Dictionary**\n",
        "\n",
        "- airline_name = name of commercial airline\n",
        "- link = link to review page for airline\n",
        "- title = '[Airline Name] customer review'\n",
        "- author = First Initial and Last Name of Reviewer\n",
        "- author_country = Country of Residence of reviewer\n",
        "- date = Date review was submitted\n",
        "- content = content of review (freeform)\n",
        "- aircraft = Aircraft type\n",
        "- type_traveller = reason for travel: Business, Couple, Leisure, Family Leisure, Solo Leisure\n",
        "- cabin_flown = cabin type: Business Class, Economy, First Class, Premium Economy\n",
        "- route = Departing airport to Arrival airport (freeform)\n",
        "- overall_rating = overall experience rating (1-10)\n",
        "- seat_comfort_rating = seat comfort rating (1-10)\n",
        "- cabin_staff_rating = cabin staff rating (1-10)\n",
        "- food_beverages_rating = food and beverages rating (1-10)\n",
        "- inflight_entertainment_rating = in-flight entertainment rating (1-10)\n",
        "- ground_service_rating = ground service rating (1-10)\n",
        "- wifi_connectivity_rating = wifi connectivity rating (1-10)\n",
        "- value_money_rating = airline value for money (1-10)\n",
        "- recommended = Would you recommend this airline, yes or no (0 or 1)?\n",
        "\n",
        "\n"
      ]
    },
    {
      "cell_type": "markdown",
      "metadata": {
        "id": "8y4pWS3O0VUZ",
        "colab_type": "text"
      },
      "source": [
        "**Problem Statement**\n",
        "\n",
        "What effects do country of residence, cabin type, and reason for travel have on a person's airline review?"
      ]
    },
    {
      "cell_type": "markdown",
      "metadata": {
        "id": "mHGN9kPr04JY",
        "colab_type": "text"
      },
      "source": [
        "**Hypotheses**\n",
        "\n",
        "1.   There will be a correlation between country of origin of reviewers and average airline reviews.\n",
        "2.   The more premium the cabin type, the higher the overall rating and seat comfort rating for the airline experience.\n",
        "3. The less premium the cabin type, the the lower the overall rating and seat comfort rating for the airline experience.\n",
        "4. However, the less premium the cabin type, the higher the value for money (and vise versa).\n",
        "5. Solo Leisure and Business travellers will have the highest reviews across the categories.\n"
      ]
    },
    {
      "cell_type": "markdown",
      "metadata": {
        "id": "SXRi2qtJ2FzJ",
        "colab_type": "text"
      },
      "source": [
        "# **Loading the Dataframe**"
      ]
    },
    {
      "cell_type": "markdown",
      "metadata": {
        "id": "16drJom42Xzc",
        "colab_type": "text"
      },
      "source": [
        "**Import Analysis Modules**"
      ]
    },
    {
      "cell_type": "code",
      "metadata": {
        "id": "6sd7veNp2LPf",
        "colab_type": "code",
        "outputId": "e08f67d6-7a32-4fe0-c07f-91a01496e37e",
        "colab": {
          "base_uri": "https://localhost:8080/",
          "height": 34
        }
      },
      "source": [
        "import pandas as pd\n",
        "import numpy as np\n",
        "from scipy import stats\n",
        "import matplotlib.pyplot as plt\n",
        "%matplotlib inline\n",
        "import seaborn as sns\n",
        "from collections import Counter\n",
        "\n",
        "print('modules import successful')"
      ],
      "execution_count": 696,
      "outputs": [
        {
          "output_type": "stream",
          "text": [
            "modules import successful\n"
          ],
          "name": "stdout"
        }
      ]
    },
    {
      "cell_type": "markdown",
      "metadata": {
        "id": "vBV9O3zr2dp9",
        "colab_type": "text"
      },
      "source": [
        "**Import CSV**"
      ]
    },
    {
      "cell_type": "code",
      "metadata": {
        "id": "fkXiroFx2fZY",
        "colab_type": "code",
        "outputId": "b8c60996-c4e1-46aa-804c-3252480da374",
        "colab": {
          "base_uri": "https://localhost:8080/",
          "height": 34
        }
      },
      "source": [
        "skytrax_orig = pd.read_csv('https://raw.githubusercontent.com/quankiquanki/skytrax-reviews-dataset/master/data/airline.csv')\n",
        "reviews = skytrax_orig.copy()\n",
        "print('dataset loaded successfully')"
      ],
      "execution_count": 697,
      "outputs": [
        {
          "output_type": "stream",
          "text": [
            "dataset loaded successfully\n"
          ],
          "name": "stdout"
        }
      ]
    },
    {
      "cell_type": "markdown",
      "metadata": {
        "id": "4Lxro6Y92lwa",
        "colab_type": "text"
      },
      "source": [
        "**See Description of Dataframe**"
      ]
    },
    {
      "cell_type": "code",
      "metadata": {
        "id": "NdwTXgbm3LYj",
        "colab_type": "code",
        "outputId": "b56b3d37-8d6a-4eb6-b2ac-8402756409fa",
        "colab": {
          "base_uri": "https://localhost:8080/",
          "height": 476
        }
      },
      "source": [
        "reviews.info()"
      ],
      "execution_count": 698,
      "outputs": [
        {
          "output_type": "stream",
          "text": [
            "<class 'pandas.core.frame.DataFrame'>\n",
            "RangeIndex: 41396 entries, 0 to 41395\n",
            "Data columns (total 20 columns):\n",
            " #   Column                         Non-Null Count  Dtype  \n",
            "---  ------                         --------------  -----  \n",
            " 0   airline_name                   41396 non-null  object \n",
            " 1   link                           41396 non-null  object \n",
            " 2   title                          41396 non-null  object \n",
            " 3   author                         41396 non-null  object \n",
            " 4   author_country                 39805 non-null  object \n",
            " 5   date                           41396 non-null  object \n",
            " 6   content                        41396 non-null  object \n",
            " 7   aircraft                       1278 non-null   object \n",
            " 8   type_traveller                 2378 non-null   object \n",
            " 9   cabin_flown                    38520 non-null  object \n",
            " 10  route                          2341 non-null   object \n",
            " 11  overall_rating                 36861 non-null  float64\n",
            " 12  seat_comfort_rating            33706 non-null  float64\n",
            " 13  cabin_staff_rating             33708 non-null  float64\n",
            " 14  food_beverages_rating          33264 non-null  float64\n",
            " 15  inflight_entertainment_rating  31114 non-null  float64\n",
            " 16  ground_service_rating          2203 non-null   float64\n",
            " 17  wifi_connectivity_rating       565 non-null    float64\n",
            " 18  value_money_rating             39723 non-null  float64\n",
            " 19  recommended                    41396 non-null  int64  \n",
            "dtypes: float64(8), int64(1), object(11)\n",
            "memory usage: 6.3+ MB\n"
          ],
          "name": "stdout"
        }
      ]
    },
    {
      "cell_type": "markdown",
      "metadata": {
        "id": "D2UicAnG3xr_",
        "colab_type": "text"
      },
      "source": [
        "**Preview one row of Dataframe**"
      ]
    },
    {
      "cell_type": "code",
      "metadata": {
        "id": "3ziuQHhF31EL",
        "colab_type": "code",
        "outputId": "38829c9e-0aec-47b8-b17c-ea1313e942da",
        "colab": {
          "base_uri": "https://localhost:8080/",
          "height": 374
        }
      },
      "source": [
        "print(reviews.iloc[0])"
      ],
      "execution_count": 699,
      "outputs": [
        {
          "output_type": "stream",
          "text": [
            "airline_name                                                         adria-airways\n",
            "link                                                /airline-reviews/adria-airways\n",
            "title                                                Adria Airways customer review\n",
            "author                                                                       D Ito\n",
            "author_country                                                             Germany\n",
            "date                                                                    2015-04-10\n",
            "content                          Outbound flight FRA/PRN A319. 2 hours 10 min f...\n",
            "aircraft                                                                       NaN\n",
            "type_traveller                                                                 NaN\n",
            "cabin_flown                                                                Economy\n",
            "route                                                                          NaN\n",
            "overall_rating                                                                   7\n",
            "seat_comfort_rating                                                              4\n",
            "cabin_staff_rating                                                               4\n",
            "food_beverages_rating                                                            4\n",
            "inflight_entertainment_rating                                                    0\n",
            "ground_service_rating                                                          NaN\n",
            "wifi_connectivity_rating                                                       NaN\n",
            "value_money_rating                                                               4\n",
            "recommended                                                                      1\n",
            "Name: 0, dtype: object\n"
          ],
          "name": "stdout"
        }
      ]
    },
    {
      "cell_type": "markdown",
      "metadata": {
        "id": "sXzcaBlE45X_",
        "colab_type": "text"
      },
      "source": [
        "**See total number of Airlines are featured in the Dataframe.**\n",
        "\n"
      ]
    },
    {
      "cell_type": "code",
      "metadata": {
        "id": "AWNqyOdn445e",
        "colab_type": "code",
        "outputId": "5ca1a8b4-2a6a-440c-e35f-bc4ab7621d63",
        "colab": {
          "base_uri": "https://localhost:8080/",
          "height": 34
        }
      },
      "source": [
        "len(reviews.airline_name.unique())"
      ],
      "execution_count": 700,
      "outputs": [
        {
          "output_type": "execute_result",
          "data": {
            "text/plain": [
              "362"
            ]
          },
          "metadata": {
            "tags": []
          },
          "execution_count": 700
        }
      ]
    },
    {
      "cell_type": "markdown",
      "metadata": {
        "id": "zNGqa0W1VMxe",
        "colab_type": "text"
      },
      "source": [
        "**See total number of reviewer countries of residence are featured in the Dataframe.**"
      ]
    },
    {
      "cell_type": "code",
      "metadata": {
        "id": "sNVFyFVLVF8q",
        "colab_type": "code",
        "outputId": "31cc5a60-1ebf-45cf-f43b-738c17caf3c3",
        "colab": {
          "base_uri": "https://localhost:8080/",
          "height": 34
        }
      },
      "source": [
        "len(reviews.author_country.unique())"
      ],
      "execution_count": 701,
      "outputs": [
        {
          "output_type": "execute_result",
          "data": {
            "text/plain": [
              "159"
            ]
          },
          "metadata": {
            "tags": []
          },
          "execution_count": 701
        }
      ]
    },
    {
      "cell_type": "markdown",
      "metadata": {
        "id": "odaaEkN04SeC",
        "colab_type": "text"
      },
      "source": [
        "# **Clean the Dataframe**"
      ]
    },
    {
      "cell_type": "markdown",
      "metadata": {
        "id": "WCyxOE_Z5OVN",
        "colab_type": "text"
      },
      "source": [
        "**Delete the link column and the title column as they are not necessary in our analysis.**"
      ]
    },
    {
      "cell_type": "code",
      "metadata": {
        "id": "93uUTk765cBR",
        "colab_type": "code",
        "colab": {}
      },
      "source": [
        "reviews.drop(columns=['link', 'title'], inplace=True)\n",
        "#note: inplace = True will permanently change the Dataframe order"
      ],
      "execution_count": 0,
      "outputs": []
    },
    {
      "cell_type": "markdown",
      "metadata": {
        "id": "g0ZgUUq34emu",
        "colab_type": "text"
      },
      "source": [
        "**Sort the Dataframe by overall rating in descending order.**"
      ]
    },
    {
      "cell_type": "code",
      "metadata": {
        "id": "bu6284IS4nJS",
        "colab_type": "code",
        "colab": {}
      },
      "source": [
        "reviews.sort_values(by=['overall_rating'], ascending=False, inplace=True, na_position='last')\n",
        "#note: inplace = True will permanently change the Dataframe order"
      ],
      "execution_count": 0,
      "outputs": []
    },
    {
      "cell_type": "markdown",
      "metadata": {
        "id": "c6QU2VQv_PVV",
        "colab_type": "text"
      },
      "source": [
        "**Delete row with invalid date**"
      ]
    },
    {
      "cell_type": "code",
      "metadata": {
        "id": "hYPW8POa_W_H",
        "colab_type": "code",
        "colab": {}
      },
      "source": [
        "reviews.drop(index = 11620, inplace = True)\n",
        "#index 11620 showed date 1970-01-01"
      ],
      "execution_count": 0,
      "outputs": []
    },
    {
      "cell_type": "markdown",
      "metadata": {
        "id": "lxRtGxDoKgcS",
        "colab_type": "text"
      },
      "source": [
        "**Set Seaborn aesthetics**"
      ]
    },
    {
      "cell_type": "code",
      "metadata": {
        "id": "RkRd5qPlJnoj",
        "colab_type": "code",
        "colab": {}
      },
      "source": [
        "sns.set_context(\"notebook\", font_scale=1, rc={\"lines.linewidth\": 2.5})"
      ],
      "execution_count": 0,
      "outputs": []
    },
    {
      "cell_type": "markdown",
      "metadata": {
        "id": "DuRbkkFs6bdC",
        "colab_type": "text"
      },
      "source": [
        "# **Analysis**"
      ]
    },
    {
      "cell_type": "markdown",
      "metadata": {
        "id": "5qp3QAEP6k7q",
        "colab_type": "text"
      },
      "source": [
        "**Find the mean, median, and mode of overall rating for the entire Dataframe**"
      ]
    },
    {
      "cell_type": "code",
      "metadata": {
        "id": "AOMenVQv6kFU",
        "colab_type": "code",
        "outputId": "c0ea0842-d00e-459e-953b-f647d551b5d3",
        "colab": {
          "base_uri": "https://localhost:8080/",
          "height": 85
        }
      },
      "source": [
        "print('The overall rating mean is', reviews['overall_rating'].mean())\n",
        "print('The overall rating median is', reviews['overall_rating'].median())\n",
        "print('The overall rating mode is', reviews['overall_rating'].mode())\n",
        "#bimodal"
      ],
      "execution_count": 706,
      "outputs": [
        {
          "output_type": "stream",
          "text": [
            "The overall rating mean is 6.0395822029300055\n",
            "The overall rating median is 7.0\n",
            "The overall rating mode is 0    10.0\n",
            "dtype: float64\n"
          ],
          "name": "stdout"
        }
      ]
    },
    {
      "cell_type": "markdown",
      "metadata": {
        "id": "xw_J4v8z7B92",
        "colab_type": "text"
      },
      "source": [
        "**Plot the overall ratings of the Dataframe in a simple histogram to see a visual representations of the distribution (with and without KDE).**"
      ]
    },
    {
      "cell_type": "code",
      "metadata": {
        "id": "Rt8g5G3cOCLH",
        "colab_type": "code",
        "outputId": "9611461e-c755-4fc1-e0a0-6f1ae86417db",
        "colab": {
          "base_uri": "https://localhost:8080/",
          "height": 368
        }
      },
      "source": [
        "fig, (ax1, ax2) = plt.subplots(ncols=2, figsize=(20, 5))\n",
        "fig.suptitle('Distribution of Overall Rating')\n",
        "sns.distplot(reviews['overall_rating'], ax=ax1)\n",
        "sns.distplot(reviews['overall_rating'], kde=False, ax=ax2)\n",
        "\n",
        "plt.show()\n",
        "\n",
        "#bimodal / sort of left-skewed distribution"
      ],
      "execution_count": 707,
      "outputs": [
        {
          "output_type": "display_data",
          "data": {
            "image/png": "[encoded data removed]",
            "text/plain": [
              "<Figure size 1440x360 with 2 Axes>"
            ]
          },
          "metadata": {
            "tags": [],
            "needs_background": "light"
          }
        }
      ]
    },
    {
      "cell_type": "markdown",
      "metadata": {
        "id": "G8XozwksA0fY",
        "colab_type": "text"
      },
      "source": [
        "**Find the most frequently used words in the Content column.**"
      ]
    },
    {
      "cell_type": "code",
      "metadata": {
        "id": "re1W9S9Z0OXG",
        "colab_type": "code",
        "colab": {
          "base_uri": "https://localhost:8080/",
          "height": 54
        },
        "outputId": "895c7848-e166-4fdc-bcfb-a817c6923c1e"
      },
      "source": [
        "dont_include = ['the','The','Flight','flight','a','A','I','i','on','in','of','to', 'for','had','it','that','this','we','We','would','which','and','with','were','not','but','at','from','as','be','-','no','No','like','what','My','was','is','have','they','you','an','are','my','our','very','all','so','or','by','one','their','there','me','get','us','back','more','when','other','about','will','them','if','up','could','been','both','before','then','On','again','do','because','can','next','use','quite']\n",
        "#get rid of filler words\n",
        "\n",
        "freeform_reviews = reviews.content.str.cat(sep=' ')\n",
        "\n",
        "split_it = []\n",
        "\n",
        "for word in freeform_reviews.split():\n",
        "  if word in dont_include:\n",
        "    pass\n",
        "  else:\n",
        "    split_it.append(word)\n",
        "\n",
        "Counter = Counter(split_it)\n",
        "most_occur = Counter.most_common(100)\n",
        "\n",
        "print(most_occur)"
      ],
      "execution_count": 708,
      "outputs": [
        {
          "output_type": "stream",
          "text": [
            "[('service', 17084), ('time', 16167), ('good', 16039), ('seats', 15137), ('food', 13945), ('seat', 13477), ('crew', 12810), ('flights', 12797), ('only', 12259), ('staff', 11855), ('plane', 10418), ('out', 9862), ('than', 9476), ('cabin', 9473), ('hours', 9170), ('flight.', 9143), ('fly', 9124), ('airline', 8964), ('return', 8622), ('hour', 7869), ('did', 7550), ('class', 7345), ('airport', 7199), ('passengers', 7028), ('even', 6984), ('just', 6951), ('entertainment', 6932), ('2', 6621), ('after', 6343), ('first', 6326), ('Air', 6305), ('friendly', 6230), ('business', 6152), ('delayed', 6103), ('new', 6022), ('leg', 5953), ('told', 5881), ('comfortable', 5855), ('any', 5810), ('boarding', 5731), ('They', 5712), ('some', 5694), ('check', 5553), ('got', 5503), ('meal', 5339), ('much', 5304), ('again.', 5274), ('aircraft', 5271), ('over', 5196), ('way', 5188), ('experience', 5173), ('flew', 5149), ('great', 5127), ('minutes', 5120), ('3', 5051), ('This', 5034), ('off', 5011), ('arrived', 4896), ('long', 4895), ('time.', 4877), ('economy', 4863), ('due', 4805), ('flying', 4799), ('never', 4777), ('Food', 4741), ('It', 4716), ('trip', 4685), ('your', 4498), ('served', 4493), ('old', 4482), ('drinks', 4450), ('better', 4439), (\"didn't\", 4421), ('also', 4391), ('has', 4370), ('really', 4283), ('same', 4260), ('made', 4253), ('nice', 4233), ('last', 4231), ('excellent', 4216), ('two', 4191), ('another', 4182), ('late', 4165), ('Flew', 4095), ('take', 4065), ('extra', 4046), ('who', 4023), ('left', 3988), ('luggage', 3976), ('pay', 3952), ('people', 3918), ('took', 3891), ('well', 3887), ('being', 3861), ('through', 3824), ('little', 3778), ('Business', 3760), ('attendants', 3738), ('gate', 3698)]\n"
          ],
          "name": "stdout"
        }
      ]
    },
    {
      "cell_type": "markdown",
      "metadata": {
        "id": "BFwl5r05SCHO",
        "colab_type": "text"
      },
      "source": [
        "**Understand the audience breakdown of the Dataframe.**\n",
        "\n",
        "Create a histogram of number of reviews by country."
      ]
    },
    {
      "cell_type": "code",
      "metadata": {
        "id": "6nkMFMTYRS_U",
        "colab_type": "code",
        "colab": {}
      },
      "source": [
        "reviews['author_country'].value_counts().plot(kind='bar', figsize=(25, 10), color='#7b2fff')\n",
        "plt.ylabel('Number of Reviewers in Country')\n",
        "plt.xlabel('Countries')\n",
        "plt.title('Number of Reviews per Country');"
      ],
      "execution_count": 0,
      "outputs": []
    },
    {
      "cell_type": "markdown",
      "metadata": {
        "id": "FNN6zlP48BkT",
        "colab_type": "text"
      },
      "source": [
        "**Create a pivot table that depicts overall rating by country.**"
      ]
    },
    {
      "cell_type": "code",
      "metadata": {
        "id": "8QQ2eRnp8KRO",
        "colab_type": "code",
        "colab": {}
      },
      "source": [
        "reviews.groupby('author_country')[['overall_rating']].mean().dropna().sort_values(by=['overall_rating'], ascending=False, inplace=False, na_position='last')\n",
        "#Take out the countries with Null for overall rating"
      ],
      "execution_count": 0,
      "outputs": []
    },
    {
      "cell_type": "markdown",
      "metadata": {
        "id": "C90IIn1I-xwN",
        "colab_type": "text"
      },
      "source": [
        "\n",
        "**Level of Country Travel per Capita vs. Airline Ratings**\n",
        "\n",
        "According to [World Atlas](https://www.worldatlas.com/articles/countries-whose-citizens-travel-the-most.html), these are the countries who travel the most (i.e. highest number of trips per person per year):\n",
        "*   Finland\n",
        "*   USA\n",
        "- Sweden\n",
        "- Denmark\n",
        "- Norway\n",
        "- Hong Kong\n",
        "- New Zealand\n",
        "- Canada\n",
        "- Australia\n",
        "- France\n",
        "\n",
        "> Are reviewers  from these top travel countries more critical than average?\n",
        "\n",
        "\n"
      ]
    },
    {
      "cell_type": "code",
      "metadata": {
        "id": "G75a6w_aAgh6",
        "colab_type": "code",
        "colab": {}
      },
      "source": [
        "gb = reviews.groupby('author_country')\n",
        "finland = gb.get_group('Finland')\n",
        "\n",
        "print('The Finland mean rating for overall rating is', finland['overall_rating'].mean())\n",
        "print('The Finland mean rating for cabin staff rating is', finland['cabin_staff_rating'].mean())\n",
        "print('The Finland mean rating for food and beverage rating is', finland['food_beverages_rating'].mean())\n",
        "print('The Finland mean rating for in-flight entertainment rating is', finland['inflight_entertainment_rating'].mean())"
      ],
      "execution_count": 0,
      "outputs": []
    },
    {
      "cell_type": "code",
      "metadata": {
        "id": "fDwSRUh9Dmfj",
        "colab_type": "code",
        "colab": {}
      },
      "source": [
        "\n",
        "print('The Dataframe mean rating for overall rating is', reviews['overall_rating'].mean())\n",
        "print('The Dataframe mean rating for cabin staff rating is', reviews['cabin_staff_rating'].mean())\n",
        "print('The Dataframe mean rating for food and beverage rating is', reviews['food_beverages_rating'].mean())\n",
        "print('The Dataframe mean rating for in-flight entertainment rating is', reviews['inflight_entertainment_rating'].mean())"
      ],
      "execution_count": 0,
      "outputs": []
    },
    {
      "cell_type": "markdown",
      "metadata": {
        "id": "WpRWnCQcC0l2",
        "colab_type": "text"
      },
      "source": [
        "How do Finland's means for these categories stack up to the Dataframe means?\n",
        "\n",
        "- Finland's mean for *overall rating* **>** Dataframe's mean for *overall rating*\n",
        "- Finland's mean for *cabin_staff_rating* **>** Dataframe's mean for *cabin_staff_rating*\n",
        "- Finland's mean for *food_beverages_rating* **=** Dataframe's mean for *inflight_entertainment_rating*\n",
        "\n",
        "\n",
        "\n"
      ]
    },
    {
      "cell_type": "markdown",
      "metadata": {
        "id": "8TcZMmDN9oFF",
        "colab_type": "text"
      },
      "source": [
        "**Country of Reviewer vs. Airline Ratings**\n",
        "> Let's grab the top 10 countries with the most reviewers. These will be more statistically significant. "
      ]
    },
    {
      "cell_type": "code",
      "metadata": {
        "id": "gFoevmghHX5d",
        "colab_type": "code",
        "colab": {}
      },
      "source": [
        "top_10_countries = reviews['author_country'].value_counts().head(10).index\n",
        "\n",
        "def check_country(country):\n",
        "  return country in top_10_countries\n",
        "\n",
        "filtered = reviews['author_country'].apply(check_country)\n",
        "\n",
        "reviews[filtered].groupby('author_country')[['overall_rating', 'seat_comfort_rating','cabin_staff_rating','food_beverages_rating','inflight_entertainment_rating']].mean().plot.bar(figsize=(40, 10), title = 'Mean Reviews of Top 10 Countries')"
      ],
      "execution_count": 0,
      "outputs": []
    },
    {
      "cell_type": "markdown",
      "metadata": {
        "id": "zzAhNZGZAfzP",
        "colab_type": "text"
      },
      "source": [
        "**Cabin Class Ratings**"
      ]
    },
    {
      "cell_type": "code",
      "metadata": {
        "id": "5jMhwVUv9U3v",
        "colab_type": "code",
        "colab": {}
      },
      "source": [
        "pd.DataFrame(reviews.pivot_table(index=('cabin_flown'),values=['overall_rating','seat_comfort_rating','value_money_rating'], aggfunc = 'mean').unstack())"
      ],
      "execution_count": 0,
      "outputs": []
    },
    {
      "cell_type": "code",
      "metadata": {
        "id": "iELKWvVaLoqH",
        "colab_type": "code",
        "colab": {}
      },
      "source": [
        "sns.barplot(x='cabin_flown', y='overall_rating', data=reviews, estimator=np.mean, ci=None)\n",
        "plt.title('Average Rating by Cabin Flown')\n",
        "plt.show()"
      ],
      "execution_count": 0,
      "outputs": []
    },
    {
      "cell_type": "code",
      "metadata": {
        "id": "gojPffjdMPJa",
        "colab_type": "code",
        "colab": {}
      },
      "source": [
        "sns.barplot(x='cabin_flown', y='seat_comfort_rating', data=reviews, estimator=np.mean, ci=None)\n",
        "plt.title('Average Seat Comfort Rating by Cabin Flown')\n",
        "plt.show()"
      ],
      "execution_count": 0,
      "outputs": []
    },
    {
      "cell_type": "code",
      "metadata": {
        "id": "49yczDbfNYFE",
        "colab_type": "code",
        "colab": {}
      },
      "source": [
        "sns.barplot(x='cabin_flown', y='value_money_rating', data=reviews, estimator=np.mean, ci=None)\n",
        "plt.title('Average Value for Money Rating by Cabin Flown')\n",
        "plt.show()"
      ],
      "execution_count": 0,
      "outputs": []
    },
    {
      "cell_type": "markdown",
      "metadata": {
        "id": "E_vu9GTaRAtY",
        "colab_type": "text"
      },
      "source": [
        "**Traveller Type Ratings**"
      ]
    },
    {
      "cell_type": "code",
      "metadata": {
        "id": "leq8ao4ESgzE",
        "colab_type": "code",
        "colab": {}
      },
      "source": [
        "pd.DataFrame(reviews.pivot_table(index=('type_traveller'),values=['overall_rating','seat_comfort_rating','food_beverages_rating','inflight_entertainment_rating'], aggfunc = 'mean').unstack())\n"
      ],
      "execution_count": 0,
      "outputs": []
    },
    {
      "cell_type": "code",
      "metadata": {
        "id": "kl8D9_PJTDZI",
        "colab_type": "code",
        "colab": {}
      },
      "source": [
        "sns.barplot(x='type_traveller', y='overall_rating', data=reviews, estimator=np.mean, ci=None)\n",
        "plt.title('Average Overall Rating by Traveller Type')\n",
        "plt.show()"
      ],
      "execution_count": 0,
      "outputs": []
    },
    {
      "cell_type": "code",
      "metadata": {
        "id": "x_tYpqa2TNCT",
        "colab_type": "code",
        "colab": {}
      },
      "source": [
        "sns.barplot(x='type_traveller', y='seat_comfort_rating', data=reviews, estimator=np.mean, ci=None)\n",
        "plt.title('Average Seat Comfort Rating Rating by Traveller Type')\n",
        "plt.show()"
      ],
      "execution_count": 0,
      "outputs": []
    },
    {
      "cell_type": "code",
      "metadata": {
        "id": "NpLDpCYsTTfm",
        "colab_type": "code",
        "colab": {}
      },
      "source": [
        "sns.barplot(x='type_traveller', y='food_beverages_rating', data=reviews, estimator=np.mean, ci=None)\n",
        "plt.title('Average Food and Beverages Rating Rating by Traveller Type')\n",
        "plt.show()"
      ],
      "execution_count": 0,
      "outputs": []
    },
    {
      "cell_type": "code",
      "metadata": {
        "id": "XNf5_GCVTa7g",
        "colab_type": "code",
        "colab": {}
      },
      "source": [
        "sns.barplot(x='type_traveller', y='inflight_entertainment_rating', data=reviews, estimator=np.mean, ci=None)\n",
        "plt.title('Average In-Flight Entertainment Rating Rating by Traveller Type')\n",
        "plt.show()"
      ],
      "execution_count": 0,
      "outputs": []
    },
    {
      "cell_type": "markdown",
      "metadata": {
        "id": "yp0jB3aQTtDt",
        "colab_type": "text"
      },
      "source": [
        "# **Insights**"
      ]
    },
    {
      "cell_type": "markdown",
      "metadata": {
        "id": "h8Eue4d6TxAd",
        "colab_type": "text"
      },
      "source": [
        "\n",
        "- In terms of average review for the entire Dataframe, the function is **bimodal** -- 0 and 10 are the most frequent answers. One can infer that **people are more likely to review if they have an extreme opinion** (whether positive or negative) rather than those who have had an average experience.\n",
        "- Some of the **most frequently used words** in the content freeform section were: ('**service**', 17084), ('**good**', 16039), ('**seats**', 15137),('**food**', 13945), ('**crew**', 12810), ('**entertainment**', 6932), ('**friendly**', 6230),  ('**attendants**', 3738),  ('**excellent**', 4216),  ('**comfortable**', 5855). A majority of the most frequently used descriptive words have a **positive** connotation. \n",
        "\n",
        "*   Although **Finland travels the most per capita**, their average reviews fall very close to or above the averages for the entire Dataframe. **Reviewers from Finland are not necessarily more critical of airlines**. *(Note: we cannot draw definitive conclusions from just one example)*.\n",
        "\n",
        " \n",
        "*   Mean ratings across the top 10 countries with the most reviewers are very similar across the board. This may indicate that **country of residence of reviewer does not affect the criticality of their reviews.** However, Canada and the United States do have slightly lower means compared to the other countries.\n",
        "\n",
        "- In terms of Cabin Flown: 1. Reviewers who flew **First Class** had the **highest average overall rating and seat comfort rating** / 2. Reviewers who flew **Economy** had the **lowest average seat comfort rating** / 3. Reviewers who flew **Premium Economy** had the **lowest average overall rating** / 4. **Business class** had the **highest value for money rating**, while **Economy & Premium Economy had the lowest**.\n",
        "\n",
        "- In terms of Reason for Travelling: 1. Reviewers who travelled for **solo leisure had the highest average ratings** for each metric / 2. Reviewers who travelled for **Business** had the **lowest average ratings for each metric *except* seat comfort (2nd highest)**.\n"
      ]
    }
  ]
}